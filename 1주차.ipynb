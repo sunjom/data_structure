{
 "cells": [
  {
   "cell_type": "code",
   "execution_count": 1,
   "id": "f3481930",
   "metadata": {},
   "outputs": [
    {
     "name": "stdout",
     "output_type": "stream",
     "text": [
      "세 정수의 최대값을 구합니다.\n",
      "정수 a의 값을 입력하세요.:10\n",
      "정수 b의 값을 입력하세요.:20\n",
      "정수 c의 값을 입력하세요.:30\n",
      "최대값은 30입니다.\n"
     ]
    }
   ],
   "source": [
    "#세 정수를 입력받아 최대값을 구하기\n",
    "\n",
    "print('세 정수의 최대값을 구합니다.')\n",
    "a = int(input('정수 a의 값을 입력하세요.:'))\n",
    "b = int(input('정수 b의 값을 입력하세요.:'))\n",
    "c = int(input('정수 c의 값을 입력하세요.:'))\n",
    "\n",
    "maximum = a\n",
    "if b > maximum: maximum = b\n",
    "if c > maximum: maximum = c\n",
    "\n",
    "print(f'최대값은 {maximum}입니다.')"
   ]
  },
  {
   "cell_type": "code",
   "execution_count": 2,
   "id": "d94b1bef",
   "metadata": {},
   "outputs": [
    {
     "name": "stdout",
     "output_type": "stream",
     "text": [
      "정수를 입력하세요.:10\n",
      "이 수는 양수입니다.\n"
     ]
    }
   ],
   "source": [
    "# 입력받은 정수의 부호(양수,음수,0) 출력하기\n",
    "\n",
    "a = int(input(\"정수를 입력하세요.:\"))\n",
    "\n",
    "if a>0 :\n",
    "    print('이 수는 양수입니다.')\n",
    "elif a<0:\n",
    "    print('이 수는 음수입니다.')\n",
    "else:\n",
    "    print('이 수는 0입니다.')"
   ]
  },
  {
   "cell_type": "code",
   "execution_count": 3,
   "id": "8f591b61",
   "metadata": {},
   "outputs": [
    {
     "name": "stdout",
     "output_type": "stream",
     "text": [
      "정수를 입력하세요.:1\n",
      "A\n"
     ]
    }
   ],
   "source": [
    "#3개로 분기하는 조건문\n",
    "\n",
    "a = int(input('정수를 입력하세요.:'))\n",
    "\n",
    "if a==1:\n",
    "    print('A')\n",
    "elif a==2:\n",
    "    print('B')\n",
    "else:\n",
    "    print('C')"
   ]
  },
  {
   "cell_type": "code",
   "execution_count": 4,
   "id": "7bd6f6c1",
   "metadata": {},
   "outputs": [
    {
     "name": "stdout",
     "output_type": "stream",
     "text": [
      "정수를 입력하세요.:4\n"
     ]
    }
   ],
   "source": [
    "#4개로 분기하는 조건문\n",
    "\n",
    "a = int(input('정수를 입력하세요.:'))\n",
    "\n",
    "if a==1:\n",
    "    print('A')\n",
    "elif a==2:\n",
    "    print('B')\n",
    "elif a==3:\n",
    "    print('C')"
   ]
  },
  {
   "cell_type": "code",
   "execution_count": 5,
   "id": "474c6c3e",
   "metadata": {},
   "outputs": [
    {
     "name": "stdout",
     "output_type": "stream",
     "text": [
      "정수를 입력하세요.:4\n"
     ]
    }
   ],
   "source": [
    "#실습 1-5의 원래 모습\n",
    "\n",
    "a = int(input('정수를 입력하세요.:'))\n",
    "\n",
    "if a==1:\n",
    "    print('A')\n",
    "elif a==2:\n",
    "    print('B')\n",
    "elif a==3:\n",
    "    print('C')\n",
    "else:\n",
    "    pass"
   ]
  },
  {
   "cell_type": "code",
   "execution_count": 8,
   "id": "1bb642f9",
   "metadata": {},
   "outputs": [
    {
     "name": "stdout",
     "output_type": "stream",
     "text": [
      "1부터 n까지 정수의 합을 구합니다.\n",
      "n값을 입력하세요.:5\n",
      "1부터 5까지의 정수의 합은 15입니다.\n"
     ]
    }
   ],
   "source": [
    "#1부터 n까지 정수의 합 구하기 1(while 문)\n",
    "\n",
    "print('1부터 n까지 정수의 합을 구합니다.')\n",
    "n = int(input('n값을 입력하세요.:'))\n",
    "sum = 0\n",
    "i =1\n",
    "\n",
    "while i<=n:\n",
    "    sum += i\n",
    "    i += 1\n",
    "print(f'1부터 {n}까지의 정수의 합은 {sum}입니다.')"
   ]
  },
  {
   "cell_type": "code",
   "execution_count": 9,
   "id": "ac663eb3",
   "metadata": {},
   "outputs": [
    {
     "name": "stdout",
     "output_type": "stream",
     "text": [
      "1부터 n까지 정수의 합을 구합니다.\n",
      "n값을 입력하세요.:5\n",
      "1부터 5까지의 정수의 합은 15입니다.\n"
     ]
    }
   ],
   "source": [
    "#1 부터 n 까지 정수의 합 구하기 2(for문)\n",
    "\n",
    "print('1부터 n까지 정수의 합을 구합니다.')\n",
    "n = int(input('n값을 입력하세요.:'))\n",
    "\n",
    "sum = 0\n",
    "for i in range(0,n+1):\n",
    "    sum += i\n",
    "print(f'1부터 {n}까지의 정수의 합은 {sum}입니다.')"
   ]
  },
  {
   "cell_type": "code",
   "execution_count": 15,
   "id": "b8e54f36",
   "metadata": {},
   "outputs": [
    {
     "name": "stdout",
     "output_type": "stream",
     "text": [
      "a부터 b까지 정수의 합을 구합니다\n",
      "정수 a를 입력하세요.:8\n",
      "정수 b를 입력하세요.:3\n",
      "3부터 8까지의 정수의 합은 33입니다.\n"
     ]
    }
   ],
   "source": [
    "#a부터 b까지 정수의 합 구하기(for문)\n",
    "\n",
    "print('a부터 b까지 정수의 합을 구합니다')\n",
    "\n",
    "a = int(input('정수 a를 입력하세요.:'))\n",
    "b = int(input('정수 b를 입력하세요.:'))\n",
    "\n",
    "if a>b:\n",
    "    a,b = b,a\n",
    "\n",
    "sum = 0\n",
    "for i in range(a,b+1):\n",
    "    sum += i\n",
    "print(f'{a}부터 {b}까지의 정수의 합은 {sum}입니다.')"
   ]
  },
  {
   "cell_type": "code",
   "execution_count": 18,
   "id": "c43e0917",
   "metadata": {},
   "outputs": [
    {
     "name": "stdout",
     "output_type": "stream",
     "text": [
      "a 부터 b까지 정수의 합을 구합니다.\n",
      "정수 a를 입력하세요.:1\n",
      "정수 b를 입력하세요.:2\n",
      "1 + 2 = 3\n"
     ]
    }
   ],
   "source": [
    "#a부터 b까지 정수의 합 구하기 1\n",
    "\n",
    "print('a 부터 b까지 정수의 합을 구합니다.')\n",
    "a = int(input('정수 a를 입력하세요.:'))\n",
    "b = int(input('정수 b를 입력하세요.:'))\n",
    "\n",
    "if a>b:\n",
    "    a,b=b,a\n",
    "\n",
    "sum = 0\n",
    "for i in range(a,b+1):\n",
    "    if i<b:\n",
    "        print(f'{i} + ', end='')\n",
    "    else:\n",
    "        print(f'{i} = ', end='')\n",
    "    sum +=i\n",
    "print(sum)"
   ]
  },
  {
   "cell_type": "code",
   "execution_count": 25,
   "id": "e31c8791",
   "metadata": {},
   "outputs": [
    {
     "name": "stdout",
     "output_type": "stream",
     "text": [
      "a 부터 b까지 정수의 합을 구합니다.\n",
      "정수 a를 입력하세요.:3\n",
      "정수 b를 입력하세요.:7\n",
      "3 + 4 + 5 + 6 + 7 = 25\n"
     ]
    }
   ],
   "source": [
    "#a부터 b까지 정수의 합 구하기 2\n",
    "\n",
    "print('a 부터 b까지 정수의 합을 구합니다.')\n",
    "a = int(input('정수 a를 입력하세요.:'))\n",
    "b = int(input('정수 b를 입력하세요.:'))\n",
    "\n",
    "if a>b:\n",
    "    a,b=b,a\n",
    "\n",
    "sum = 0\n",
    "for i in range(a,b):\n",
    "    print(f'{i} + ', end='')\n",
    "    sum +=i\n",
    "print(f'{b} = ', end='')\n",
    "sum +=b\n",
    "print(sum)"
   ]
  },
  {
   "cell_type": "code",
   "execution_count": 26,
   "id": "266cd147",
   "metadata": {},
   "outputs": [
    {
     "name": "stdout",
     "output_type": "stream",
     "text": [
      "+와 -를 번갈아 출력합니다.\n",
      "몇 개를 출력할까요?: 12\n",
      "+-+-+-+-+-+-\n"
     ]
    }
   ],
   "source": [
    "# +와 -를 번갈아 출력하기 1\n",
    "\n",
    "print('+와 -를 번갈아 출력합니다.')\n",
    "n = int(input('몇 개를 출력할까요?: '))\n",
    "\n",
    "for i in range(n):\n",
    "    if i%2==0:\n",
    "        print('+',end='')\n",
    "    else:\n",
    "        print('-',end='')\n",
    "print()"
   ]
  },
  {
   "cell_type": "code",
   "execution_count": 33,
   "id": "276298b7",
   "metadata": {},
   "outputs": [
    {
     "name": "stdout",
     "output_type": "stream",
     "text": [
      "+와 -를 번갈아 출력합니다.\n",
      "몇 개를 출력할까요?: 11\n",
      "+-+-+-+-+-+\n"
     ]
    }
   ],
   "source": [
    "# +와 -를 번갈아 출력하기 2\n",
    "\n",
    "print('+와 -를 번갈아 출력합니다.')\n",
    "n = int(input('몇 개를 출력할까요?: '))\n",
    "\n",
    "for _ in range(n//2):\n",
    "    print('+-',end='')\n",
    "if n%2:\n",
    "    print('+',end='')\n",
    "print()"
   ]
  },
  {
   "cell_type": "code",
   "execution_count": 45,
   "id": "fedc9b1d",
   "metadata": {
    "scrolled": true
   },
   "outputs": [
    {
     "name": "stdout",
     "output_type": "stream",
     "text": [
      "*을 출력합니다\n",
      "몇 개를 출력할까요?: 4\n",
      "몇 개마다 줄바꿈할까요?: 5\n",
      "****"
     ]
    }
   ],
   "source": [
    "# *을 n개 출력하되 w개마다 줄바꿈을 하는 프로그램\n",
    "\n",
    "print('*을 출력합니다')\n",
    "n = int(input('몇 개를 출력할까요?: '))\n",
    "w = int(input('몇 개마다 줄바꿈할까요?: '))\n",
    "\n",
    "for i in range(n):\n",
    "    print('*',end='')\n",
    "    if(i%w==w-1):\n",
    "        print()\n",
    "if n%w:\n",
    "    print()"
   ]
  },
  {
   "cell_type": "code",
   "execution_count": 46,
   "id": "c07386b6",
   "metadata": {},
   "outputs": [
    {
     "name": "stdout",
     "output_type": "stream",
     "text": [
      "부터 n까지 정수의 합을 구합니다. \n",
      "n값을 입력받으세요.:-1\n",
      "n값을 입력받으세요.:5\n",
      "1부터 5까지 정수의 합은 15입니다.\n"
     ]
    }
   ],
   "source": [
    "# 1부터 n까지 정수의 합 구하기(n값은 양수만 입력받음)\n",
    "\n",
    "print('부터 n까지 정수의 합을 구합니다. ')\n",
    "\n",
    "while(True):\n",
    "    n = int(input('n값을 입력받으세요.:'))\n",
    "    if n>0:\n",
    "        break\n",
    "\n",
    "sum = 0\n",
    "i = 1\n",
    "for i in range(1, n+1):\n",
    "    sum += i\n",
    "    i +=1\n",
    "print(f'1부터 {n}까지 정수의 합은 {sum}입니다.')\n"
   ]
  },
  {
   "cell_type": "code",
   "execution_count": 49,
   "id": "f924b52e",
   "metadata": {},
   "outputs": [
    {
     "name": "stdout",
     "output_type": "stream",
     "text": [
      "부터 n까지 정수의 합을 구합니다. \n",
      "n값을 입력받으세요.:5\n",
      "1부터 5까지 정수의 합은 15입니다.\n"
     ]
    }
   ],
   "source": [
    "# 1부터 n까지 정수의 합 구하기(n값은 양수만 입력받음)\n",
    "\n",
    "print('부터 n까지 정수의 합을 구합니다. ')\n",
    "\n",
    "while(True):\n",
    "    n = int(input('n값을 입력받으세요.:'))\n",
    "    if n>0:\n",
    "        break\n",
    "\n",
    "sum = 0\n",
    "for i in range(1, n+1):\n",
    "    sum += i\n",
    "print(f'1부터 {n}까지 정수의 합은 {sum}입니다.')"
   ]
  },
  {
   "cell_type": "code",
   "execution_count": 51,
   "id": "5e425e87",
   "metadata": {},
   "outputs": [
    {
     "name": "stdout",
     "output_type": "stream",
     "text": [
      "직사각형의 넓이를 입력하세요.:32\n",
      "1*32\n",
      "2*16\n",
      "4*8\n"
     ]
    }
   ],
   "source": [
    "#가로,세로 길이가 정수이고 넓이가 area인 직사각형에서 변의 길이 나열하기\n",
    "\n",
    "area = int(input('직사각형의 넓이를 입력하세요.:'))\n",
    "\n",
    "for i in range(1,area+1):\n",
    "    if i*i > area: break\n",
    "    if area%i: continue\n",
    "    print(f'{i}*{area//i}')"
   ]
  },
  {
   "cell_type": "code",
   "execution_count": 52,
   "id": "65836cb1",
   "metadata": {},
   "outputs": [
    {
     "name": "stdout",
     "output_type": "stream",
     "text": [
      "1 2 3 4 5 6 7 9 10 11 \n"
     ]
    }
   ],
   "source": [
    "# 1~12까지 8을 건너뛰고 출력하기 1\n",
    "\n",
    "for i in range(1,12):\n",
    "    if i==8:\n",
    "        continue\n",
    "    print(i,end=' ')\n",
    "print()"
   ]
  },
  {
   "cell_type": "code",
   "execution_count": 55,
   "id": "19205af2",
   "metadata": {},
   "outputs": [
    {
     "name": "stdout",
     "output_type": "stream",
     "text": [
      "1 2 3 4 5 6 7 9 10 11 12 \n"
     ]
    }
   ],
   "source": [
    "#1부터 12까지 8을 건너뛰고 출력하기 2\n",
    "\n",
    "for i in list(range(1,8))+list(range(9,13)):\n",
    "    print(i,end=' ')\n",
    "print()"
   ]
  },
  {
   "cell_type": "code",
   "execution_count": 62,
   "id": "4c682170",
   "metadata": {},
   "outputs": [
    {
     "name": "stdout",
     "output_type": "stream",
     "text": [
      "---------------------------\n",
      "  1  2  3  4  5  6  7  8  9\n",
      "  2  4  6  8 10 12 14 16 18\n",
      "  3  6  9 12 15 18 21 24 27\n",
      "  4  8 12 16 20 24 28 32 36\n",
      "  5 10 15 20 25 30 35 40 45\n",
      "  6 12 18 24 30 36 42 48 54\n",
      "  7 14 21 28 35 42 49 56 63\n",
      "  8 16 24 32 40 48 56 64 72\n",
      "  9 18 27 36 45 54 63 72 81\n",
      "---------------------------\n"
     ]
    }
   ],
   "source": [
    "#구구단 곱셈표 출력하기\n",
    "\n",
    "print('-'*27)\n",
    "for i in range(1,10):\n",
    "    for j in range(1,10):\n",
    "        print(f'{i * j:3}',end='')\n",
    "    print()\n",
    "print('-'*27)"
   ]
  },
  {
   "cell_type": "code",
   "execution_count": 63,
   "id": "62b8f182",
   "metadata": {},
   "outputs": [
    {
     "name": "stdout",
     "output_type": "stream",
     "text": [
      "왼쪽 아래가 직각인 이등변 삼각형을 출력합니다.\n",
      "짧은 변의 길이를 입력하세요5\n",
      "*\n",
      "**\n",
      "***\n",
      "****\n",
      "*****\n"
     ]
    }
   ],
   "source": [
    "#왼쪽 아래가 직각인 이등변 삼각형으로 * 출력하기\n",
    "\n",
    "print('왼쪽 아래가 직각인 이등변 삼각형을 출력합니다.')\n",
    "n = int(input('짧은 변의 길이를 입력하세요'))\n",
    "for i in range(n):\n",
    "    for j in range(i+1):\n",
    "        print('*',end='')\n",
    "    print()"
   ]
  },
  {
   "cell_type": "code",
   "execution_count": 64,
   "id": "a805b93f",
   "metadata": {},
   "outputs": [
    {
     "name": "stdout",
     "output_type": "stream",
     "text": [
      "왼쪽 아래가 직각인 이등변 삼각형을 출력합니다.\n",
      "짧은 변의 길이를 입력하세요5\n",
      "    *\n",
      "   **\n",
      "  ***\n",
      " ****\n",
      "*****\n"
     ]
    }
   ],
   "source": [
    "#오른쪽 아래가 직각인 이등변 삼각형으로 * 출력하기\n",
    "\n",
    "print('왼쪽 아래가 직각인 이등변 삼각형을 출력합니다.')\n",
    "n = int(input('짧은 변의 길이를 입력하세요'))\n",
    "for i in range(n):\n",
    "    for j in range(n-i-1):\n",
    "        print(' ',end='')\n",
    "    for k in range(i+1):\n",
    "        print('*',end='')\n",
    "    print()"
   ]
  },
  {
   "cell_type": "code",
   "execution_count": null,
   "id": "6f7e4e7d",
   "metadata": {},
   "outputs": [],
   "source": []
  }
 ],
 "metadata": {
  "kernelspec": {
   "display_name": "Python 3 (ipykernel)",
   "language": "python",
   "name": "python3"
  },
  "language_info": {
   "codemirror_mode": {
    "name": "ipython",
    "version": 3
   },
   "file_extension": ".py",
   "mimetype": "text/x-python",
   "name": "python",
   "nbconvert_exporter": "python",
   "pygments_lexer": "ipython3",
   "version": "3.9.12"
  }
 },
 "nbformat": 4,
 "nbformat_minor": 5
}
