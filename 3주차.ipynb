{
 "cells": [
  {
   "cell_type": "code",
   "execution_count": 4,
   "id": "034188ce",
   "metadata": {},
   "outputs": [
    {
     "name": "stdout",
     "output_type": "stream",
     "text": [
      "원소 수를 입력하세요.: 7\n",
      "x[0]6\n",
      "x[1]4\n",
      "x[2]3\n",
      "x[3]2\n",
      "x[4]1\n",
      "x[5]2\n",
      "x[6]8\n",
      "검색할 값을 입력하세요.: 2\n",
      "검색값은x[3]에 있습니다.\n"
     ]
    }
   ],
   "source": [
    "#3-1\n",
    "\n",
    "from typing import Any, Sequence\n",
    "\n",
    "def seq_search(a:Sequence, Key:Any) -> int:\n",
    "    \n",
    "    i= 0\n",
    "    while True:\n",
    "        if i == len(a):\n",
    "            return -1\n",
    "        if a[i] == Key:\n",
    "            return i;\n",
    "        i+=1\n",
    "\n",
    "if __name__ == '__main__':\n",
    "    num = int(input('원소 수를 입력하세요.: '))\n",
    "    x = [None] * num\n",
    "    \n",
    "    for i in range(num):\n",
    "        x[i] = int(input(f'x[{i}]'))\n",
    "        \n",
    "    ky = int(input('검색할 값을 입력하세요.: '))\n",
    "    idx = seq_search(x,ky)\n",
    "    \n",
    "    if idx==-1:\n",
    "        print('검색값을 갖는 원소가 존재하지 않습니다.')\n",
    "    else:\n",
    "        print(f'검색값은 x{[idx]}에 있습니다.')"
   ]
  },
  {
   "cell_type": "code",
   "execution_count": 5,
   "id": "73efe474",
   "metadata": {},
   "outputs": [
    {
     "name": "stdout",
     "output_type": "stream",
     "text": [
      "원소 수를 입력하세요: 7\n",
      "x[0]6\n",
      "x[1]4\n",
      "x[2]3\n",
      "x[3]2\n",
      "x[4]1\n",
      "x[5]2\n",
      "x[6]8\n",
      "검색할 값을 입력하세요: 2\n",
      "검색값은x[3]에 있습니다.\n"
     ]
    }
   ],
   "source": [
    "#3-2\n",
    "from typing import Any, Sequence\n",
    "\n",
    "def seq_search(a:Sequence, Key:Any):\n",
    "    for i in range(len(a)):\n",
    "        if a[i] == Key:\n",
    "            return i;\n",
    "    return -1;\n",
    "\n",
    "if __name__ == '__main__':\n",
    "    num = int(input('원소 수를 입력하세요: '))\n",
    "    x = [None]*num\n",
    "    \n",
    "    for i in range(num):\n",
    "        x[i] = int(input(f'x[{i}]'))\n",
    "    ky = int(input('검색할 값을 입력하세요: '))\n",
    "    idx = seq_search(x,ky)\n",
    "    \n",
    "    if idx==-1:\n",
    "        print('검색값을 갖는 원소가 존재하지 않습니다.')\n",
    "    else:\n",
    "        print(f'검색값은 x{[idx]}에 있습니다.')\n"
   ]
  },
  {
   "cell_type": "code",
   "execution_count": 9,
   "id": "e390e7f9",
   "metadata": {},
   "outputs": [
    {
     "name": "stdout",
     "output_type": "stream",
     "text": [
      "원소 수를 입력하세요.: 7\n",
      "x[0]6\n",
      "x[1]4\n",
      "x[2]3\n",
      "x[3]2\n",
      "x[4]1\n",
      "x[5]6\n",
      "x[6]7\n",
      "검색할 값을 입력하세요.: 2\n",
      "검색값은 x[3]에 있습니다.\n"
     ]
    }
   ],
   "source": [
    "from typing import Any, Sequence\n",
    "import copy\n",
    "\n",
    "def seq_search(seq: Sequence, Key: Any) -> int:\n",
    "    a = copy.deepcopy(seq)\n",
    "    a.append(Key)\n",
    "    \n",
    "    i = 0\n",
    "    while True:\n",
    "        if a[i]==Key:\n",
    "            break\n",
    "        i +=1\n",
    "    return -1 if i == len(seq) else i\n",
    "if __name__ == '__main__':\n",
    "    num = int(input('원소 수를 입력하세요.: '))\n",
    "    x = [None] * num\n",
    "    \n",
    "    for i in range(num):\n",
    "        x[i] = int(input(f'x[{i}]'))\n",
    "        \n",
    "    ky = int(input('검색할 값을 입력하세요.: '))\n",
    "    idx = seq_search(x,ky)\n",
    "    \n",
    "    if idx==-1:\n",
    "        print('검색값을 갖는 원소가 존재하지 않습니다.')\n",
    "    else:\n",
    "        print(f'검색값은 x{[idx]}에 있습니다.')"
   ]
  },
  {
   "cell_type": "code",
   "execution_count": 10,
   "id": "6ad78dd8",
   "metadata": {},
   "outputs": [
    {
     "name": "stdout",
     "output_type": "stream",
     "text": [
      "원소 수를 입력하세요.: 7\n",
      "배열 데이터를 오름차순으로 입력하세요.\n",
      "x[0]: 1\n",
      "x[1]: 2\n",
      "x[2]: 3\n",
      "x[3]: 5\n",
      "x[4]: 7\n",
      "x[5]: 8\n",
      "x[6]: 9\n",
      "검색할 값을 입력하세요.: 5\n",
      "검색값은 x[3]에 있습니다.\n"
     ]
    }
   ],
   "source": [
    "from typing import Any, Sequence\n",
    "\n",
    "def bin_search(a: Sequence, Key: Any) -> int:\n",
    "    pl = 0\n",
    "    pr = len(a)-1\n",
    "    \n",
    "    while True:\n",
    "        pc = (pl+pr)//2\n",
    "        if(a[pc]==Key):\n",
    "            return pc\n",
    "        elif a[pc] < Key:\n",
    "            pl = pc+1\n",
    "        else:\n",
    "            pr = pc-1\n",
    "        if pl > pr:\n",
    "            break\n",
    "    return -1\n",
    "\n",
    "if __name__ == '__main__':\n",
    "    num = int(input('원소 수를 입력하세요.: '))\n",
    "    x = [None] * num\n",
    "    \n",
    "    print('배열 데이터를 오름차순으로 입력하세요.')\n",
    "    \n",
    "    x[0] = int(input('x[0]: '))\n",
    "    \n",
    "    for i in range(1, num):\n",
    "        while True:\n",
    "            x[i] = int(input(f'x[{i}]: '))\n",
    "            if x[i] >= x[i - 1]:\n",
    "                break\n",
    "    ky = int(input('검색할 값을 입력하세요.: '))\n",
    "    \n",
    "    idx = bin_search(x,ky)\n",
    "    \n",
    "    if idx==-1:\n",
    "        print('검색값을 갖는 원소가 존재하지 않습니다.')\n",
    "    else:\n",
    "        print(f'검색값은 x{[idx]}에 있습니다.')"
   ]
  },
  {
   "cell_type": "code",
   "execution_count": null,
   "id": "c719a087",
   "metadata": {},
   "outputs": [],
   "source": []
  }
 ],
 "metadata": {
  "kernelspec": {
   "display_name": "Python 3 (ipykernel)",
   "language": "python",
   "name": "python3"
  },
  "language_info": {
   "codemirror_mode": {
    "name": "ipython",
    "version": 3
   },
   "file_extension": ".py",
   "mimetype": "text/x-python",
   "name": "python",
   "nbconvert_exporter": "python",
   "pygments_lexer": "ipython3",
   "version": "3.9.12"
  }
 },
 "nbformat": 4,
 "nbformat_minor": 5
}
